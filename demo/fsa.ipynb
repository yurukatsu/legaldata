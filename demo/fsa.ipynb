{
 "cells": [
  {
   "cell_type": "code",
   "execution_count": 1,
   "metadata": {},
   "outputs": [],
   "source": [
    "%load_ext autoreload\n",
    "%autoreload 2\n"
   ]
  },
  {
   "cell_type": "markdown",
   "metadata": {},
   "source": [
    "# How to get FSA"
   ]
  },
  {
   "cell_type": "markdown",
   "metadata": {},
   "source": [
    "Public comments"
   ]
  },
  {
   "cell_type": "code",
   "execution_count": 2,
   "metadata": {},
   "outputs": [],
   "source": [
    "from legaldata.loader import FSAPublicCommentLoader"
   ]
  },
  {
   "cell_type": "code",
   "execution_count": 3,
   "metadata": {},
   "outputs": [
    {
     "name": "stderr",
     "output_type": "stream",
     "text": [
      "/home/yurukatsu/github/legaldata/legaldata/loader/fsa.py:112: UserWarning: process 54 is failed because that list index out of range. skip it.\n",
      "  warnings.warn(f\"process {i} is failed because that {e}. skip it.\")\n"
     ]
    }
   ],
   "source": [
    "# initialize loader\n",
    "loader = FSAPublicCommentLoader(yyyy=2022)\n",
    "# get public comments\n",
    "comments = loader.get_public_comments()\n",
    "comment = comments[0]\n",
    "# get links\n",
    "links = loader.get_links(comment)"
   ]
  },
  {
   "cell_type": "code",
   "execution_count": 4,
   "metadata": {},
   "outputs": [],
   "source": [
    "# save data w/ metadata\n",
    "link = links[0]\n",
    "loader.save_content_w_metadata(link, save_dir='data/fsa_public_comments')"
   ]
  },
  {
   "cell_type": "markdown",
   "metadata": {},
   "source": [
    "News"
   ]
  },
  {
   "cell_type": "code",
   "execution_count": 5,
   "metadata": {},
   "outputs": [],
   "source": [
    "from legaldata.loader import FSANewsLoader"
   ]
  },
  {
   "cell_type": "code",
   "execution_count": 6,
   "metadata": {},
   "outputs": [],
   "source": [
    "# initialize loader\n",
    "loader = FSANewsLoader(yyyy=2022)\n",
    "# get links\n",
    "links = loader.get_links()\n"
   ]
  },
  {
   "cell_type": "code",
   "execution_count": 7,
   "metadata": {},
   "outputs": [],
   "source": [
    "# save data w/ metadata\n",
    "link = links[0]\n",
    "loader.save_content_w_metadata(link, save_dir='data/fsa_news')"
   ]
  }
 ],
 "metadata": {
  "kernelspec": {
   "display_name": ".venv",
   "language": "python",
   "name": "python3"
  },
  "language_info": {
   "codemirror_mode": {
    "name": "ipython",
    "version": 3
   },
   "file_extension": ".py",
   "mimetype": "text/x-python",
   "name": "python",
   "nbconvert_exporter": "python",
   "pygments_lexer": "ipython3",
   "version": "3.11.5"
  }
 },
 "nbformat": 4,
 "nbformat_minor": 2
}
