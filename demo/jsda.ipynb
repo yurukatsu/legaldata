{
 "cells": [
  {
   "cell_type": "code",
   "execution_count": 1,
   "metadata": {},
   "outputs": [],
   "source": [
    "%load_ext autoreload\n",
    "%autoreload 2"
   ]
  },
  {
   "cell_type": "markdown",
   "metadata": {},
   "source": [
    "# How to get JSDA"
   ]
  },
  {
   "cell_type": "code",
   "execution_count": 2,
   "metadata": {},
   "outputs": [],
   "source": [
    "from pprint import pprint\n",
    "from legaldata.loader import JSDALoader\n"
   ]
  },
  {
   "cell_type": "code",
   "execution_count": 3,
   "metadata": {},
   "outputs": [
    {
     "name": "stdout",
     "output_type": "stream",
     "text": [
      "94\n",
      "url='https://www.jsda.or.jp/about/kisoku/files/230627_teikan.pdf' extension='pdf' category='JSDA' name='JSDA協会規約' description='JSDA協会規約'\n"
     ]
    }
   ],
   "source": [
    "# initialize loader\n",
    "loader = JSDALoader()\n",
    "# create links\n",
    "links = loader.get_links()\n",
    "print(len(links))\n",
    "print(links[0])"
   ]
  },
  {
   "cell_type": "code",
   "execution_count": 4,
   "metadata": {},
   "outputs": [],
   "source": [
    "# save data with metadata\n",
    "link = links[0]\n",
    "loader.save_content_w_metadata(link, 'data/jsda')"
   ]
  },
  {
   "cell_type": "markdown",
   "metadata": {},
   "source": [
    "## Handbook "
   ]
  },
  {
   "cell_type": "code",
   "execution_count": 5,
   "metadata": {},
   "outputs": [],
   "source": [
    "from legaldata.loader import JSDAHandbookLoader"
   ]
  },
  {
   "cell_type": "code",
   "execution_count": 6,
   "metadata": {},
   "outputs": [
    {
     "name": "stdout",
     "output_type": "stream",
     "text": [
      "22\n",
      "url='https://www.jsda.or.jp/shijyo/seido/jishukisei/web-handbook/101_kanri/files/230701_toushikanyuu.pdf' extension='pdf' category='JSDA' name='JSDAハンドブック' description='JSDAハンドブック' type_name='kanri' type_desc='協会員における顧客管理、内部管理等' title='協会員の投資勧誘、顧客管理等に関する規則'\n"
     ]
    }
   ],
   "source": [
    "# initialize loader\n",
    "type_id = \"101\"\n",
    "loader = JSDAHandbookLoader(type_id=type_id)\n",
    "# create links\n",
    "links = loader.get_links()\n",
    "print(len(links))\n",
    "print(links[0])"
   ]
  },
  {
   "cell_type": "code",
   "execution_count": 7,
   "metadata": {},
   "outputs": [],
   "source": [
    "# save data with metadata\n",
    "link = links[0]\n",
    "loader.save_content_w_metadata(link, 'data/jsdahandbook')"
   ]
  }
 ],
 "metadata": {
  "kernelspec": {
   "display_name": ".venv",
   "language": "python",
   "name": "python3"
  },
  "language_info": {
   "codemirror_mode": {
    "name": "ipython",
    "version": 3
   },
   "file_extension": ".py",
   "mimetype": "text/x-python",
   "name": "python",
   "nbconvert_exporter": "python",
   "pygments_lexer": "ipython3",
   "version": "3.11.5"
  }
 },
 "nbformat": 4,
 "nbformat_minor": 2
}
